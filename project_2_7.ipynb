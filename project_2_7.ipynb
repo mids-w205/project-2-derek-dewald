{
 "cells": [
  {
   "cell_type": "markdown",
   "id": "3f465500",
   "metadata": {},
   "source": [
    "# Project 2, Part 7, Analysis on continuing to withhold customer data from 3rd parties\n",
    "\n",
    "University of California, Berkeley\n",
    "\n",
    "Master of Information and Data Science (MIDS) program\n",
    "\n",
    "w205 - Fundamentals of Data Engineering\n"
   ]
  },
  {
   "cell_type": "markdown",
   "id": "1cf92eab",
   "metadata": {},
   "source": [
    "# 2.7 Analysis on continuing to withhold customer data from 3rd parties\n",
    "\n",
    "As stated in the scenario, like most companies, AGM does not want to give out its customer list to 3rd party sales channels.  The downside is, as we have seen, that customer first names, last names, and street addresses will have some variations and not be exact matches.\n",
    "\n",
    "The data science team would like your analysis of both options:\n",
    "\n",
    "1)  Continue to withhold the customer data from 3rd party sales channels\n",
    "\n",
    "2)  Give customer data to 3rd party sales channels\n",
    "\n",
    "The data science team would also like your recommendation on which option you think is best.  \n",
    "\n",
    "In the markdown cell, you must provide:\n",
    "* A meaningful title\n",
    "* Write a brief paragraph for option 1.\n",
    "* Write a brief paragraph for option 2.\n",
    "* Write a brief paragraph with your recommendation, which must be either option 1 or option 2, you cannot recommend something else.\n",
    "\n",
    "Put the title and all 3 paragraphs in a single markdown cell.\n",
    "\n",
    "You are not required to write any queries nor any code nor create any data visualizations.  Simply provide English text.\n"
   ]
  },
  {
   "cell_type": "markdown",
   "id": "c8086a63",
   "metadata": {},
   "source": [
    "# To share or not to share, considerations to organizational data sharing.\n",
    "\n",
    "Before we considered whether we should share data, we’d have to explore whether we legally are able to. As such we would need to understand the legal obligations and commitments that our terms and conditions with our members afforded us and the applicable local laws and regulations. If it does not articulate that we are within our right to share their information with vendors or we are prohibited by law, then regardless of what we desire we legally can not share the information. If we legally are able to share, then we would need to consider the various risks and weight them against the benefits of automation. Risks would include items such as third party data security and governance, data consistency (the need to continually provide information as it changes),  the probability that the 3rd party might attempt to solicit our customers, or potential 3rd party use of the data for marketing or unintended purposes.\n",
    "\n",
    "Sharing our information with customers could reduce the complexity of data integration by contractually transferring the onus and responsibility of providing information in a certain format to our vendor, which could potentially reduce manual data manipulation and preparation which is required. Additionally, with the information it’s possible that the vendor could provide us with potential insights, or identify data inconsistencies which could prove benefical and result in enhanced data quality as we resolved. While we would need to fully understand the capcity, desire and capabilities of our vendor, the opportuntiy for collaberation may exist.\n",
    "\n",
    "Data Security, Management and Governance are complex topics which are increasingly complicated as additional legislation, tools, platforms and transmission methods are introduced. As we look to build manageable, sustainable and consistent integration layers we want to ensure we reduce complexity and risk where possible, the less requirement and onus we place on third parties to be a part of this process, the more control we maintain and the lower our vendor risk becomes. Further, the expectation that vendors will create customized solutions for each customer (without substantial cost) is not realistic as the technology stack that companies utilizes differs greatly, so unless we exert considerable influence over our vendor, the expected benefit is in my opinion outweighed by the potential operational, legal and regulatory costs and risks as such I would not look to share information with our vendors.\n"
   ]
  },
  {
   "cell_type": "code",
   "execution_count": null,
   "id": "b8c59d2b",
   "metadata": {},
   "outputs": [],
   "source": []
  }
 ],
 "metadata": {
  "kernelspec": {
   "display_name": "Python 3 (ipykernel)",
   "language": "python",
   "name": "python3"
  },
  "language_info": {
   "codemirror_mode": {
    "name": "ipython",
    "version": 3
   },
   "file_extension": ".py",
   "mimetype": "text/x-python",
   "name": "python",
   "nbconvert_exporter": "python",
   "pygments_lexer": "ipython3",
   "version": "3.9.7"
  }
 },
 "nbformat": 4,
 "nbformat_minor": 5
}
